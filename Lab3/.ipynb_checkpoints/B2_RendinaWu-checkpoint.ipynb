{
 "cells": [
  {
   "cell_type": "code",
   "execution_count": 1,
   "metadata": {},
   "outputs": [],
   "source": [
    "# import libraries\n",
    "from rdflib import Graph,Literal,RDF,URIRef\n",
    "from rdflib.namespace import FOAF,XSD,RDFS\n",
    "\n",
    "from rdflib import Namespace\n",
    "import pandas as pd\n",
    "import string\n",
    "import random\n",
    "import numpy as np\n",
    "import os\n",
    "# ignore the warning\n",
    "import warnings\n",
    "warnings.filterwarnings('ignore')"
   ]
  },
  {
   "cell_type": "code",
   "execution_count": 2,
   "metadata": {},
   "outputs": [],
   "source": [
    "g=Graph()\n",
    "sdm_lab = Namespace(\"http://sdm_lab/\")"
   ]
  },
  {
   "cell_type": "code",
   "execution_count": 3,
   "metadata": {},
   "outputs": [],
   "source": [
    "def URLparse(url:str):\n",
    "    url=url.replace(\"\\'\",\"_\").replace(\"\\\"\",\"_\")\n",
    "    for i in string.punctuation:\n",
    "        url = url.replace(i,\"_\")\n",
    "    url = url.replace(\" \",\"_\")\n",
    "    return url\n",
    "def save_rdf_file(g,filename,rdf_format='ttl'):\n",
    "    g.serialize(filename+'.'+rdf_format,format= rdf_format)"
   ]
  },
  {
   "cell_type": "markdown",
   "metadata": {},
   "source": [
    "# Read all csv into dataframe and load them into Graph"
   ]
  },
  {
   "cell_type": "code",
   "execution_count": 4,
   "metadata": {},
   "outputs": [],
   "source": [
    "directory=os.getcwd()"
   ]
  },
  {
   "cell_type": "markdown",
   "metadata": {},
   "source": [
    "### Paper"
   ]
  },
  {
   "cell_type": "code",
   "execution_count": 5,
   "metadata": {},
   "outputs": [
    {
     "data": {
      "text/html": [
       "<div>\n",
       "<style scoped>\n",
       "    .dataframe tbody tr th:only-of-type {\n",
       "        vertical-align: middle;\n",
       "    }\n",
       "\n",
       "    .dataframe tbody tr th {\n",
       "        vertical-align: top;\n",
       "    }\n",
       "\n",
       "    .dataframe thead th {\n",
       "        text-align: right;\n",
       "    }\n",
       "</style>\n",
       "<table border=\"1\" class=\"dataframe\">\n",
       "  <thead>\n",
       "    <tr style=\"text-align: right;\">\n",
       "      <th></th>\n",
       "      <th>id</th>\n",
       "      <th>title</th>\n",
       "      <th>year</th>\n",
       "      <th>type</th>\n",
       "      <th>publication</th>\n",
       "    </tr>\n",
       "  </thead>\n",
       "  <tbody>\n",
       "    <tr>\n",
       "      <th>0</th>\n",
       "      <td>53e9978ab7602d9701f45b8e</td>\n",
       "      <td>Correspondence</td>\n",
       "      <td>1874</td>\n",
       "      <td>DemoPaper</td>\n",
       "      <td>0</td>\n",
       "    </tr>\n",
       "    <tr>\n",
       "      <th>1</th>\n",
       "      <td>53e9978db7602d9701f4cccd</td>\n",
       "      <td>Miscellany.</td>\n",
       "      <td>1903</td>\n",
       "      <td>DemoPaper</td>\n",
       "      <td>0</td>\n",
       "    </tr>\n",
       "  </tbody>\n",
       "</table>\n",
       "</div>"
      ],
      "text/plain": [
       "                         id           title  year       type  publication\n",
       "0  53e9978ab7602d9701f45b8e  Correspondence  1874  DemoPaper            0\n",
       "1  53e9978db7602d9701f4cccd     Miscellany.  1903  DemoPaper            0"
      ]
     },
     "execution_count": 5,
     "metadata": {},
     "output_type": "execute_result"
    }
   ],
   "source": [
    "df_paper=pd.read_csv(directory+\"/ABox_data/papers.csv\")\n",
    "for index,row in df_paper.iterrows():\n",
    "    paper_id = row['id']\n",
    "    paper_title = Literal(str(row['title']))\n",
    "    paper_year = Literal(str(row['year']))\n",
    "    paper_type = str(row['type'])\n",
    "    paper_publication = row['publication']\n",
    "    # create ABox\n",
    "    paper_node = URIRef(f\"http://sdm_lab/{URLparse(paper_id)}\")\n",
    "    g.add((paper_node, sdm_lab.title, paper_title))\n",
    "    g.add((paper_node, sdm_lab.year, paper_year))\n",
    "    if paper_type=='FullPaper':\n",
    "        g.add((paper_node, RDF.type, sdm_lab.FullPaper))\n",
    "    elif paper_type=='DemoPaper':\n",
    "        g.add((paper_node, RDF.type, sdm_lab.DemoPaper))\n",
    "    elif paper_type=='ShortPaper':\n",
    "        g.add((paper_node, RDF.type, sdm_lab.ShortPaper))\n",
    "    elif paper_type=='Poster':\n",
    "        g.add((paper_node, RDF.type, sdm_lab.Poster))\n",
    "    g.add((paper_node, sdm_lab.title, paper_title))\n",
    "    g.add((paper_node, sdm_lab.year, paper_year))\n",
    "df_paper.head(2)"
   ]
  },
  {
   "cell_type": "markdown",
   "metadata": {},
   "source": [
    "### Area"
   ]
  },
  {
   "cell_type": "code",
   "execution_count": 6,
   "metadata": {},
   "outputs": [
    {
     "data": {
      "text/html": [
       "<div>\n",
       "<style scoped>\n",
       "    .dataframe tbody tr th:only-of-type {\n",
       "        vertical-align: middle;\n",
       "    }\n",
       "\n",
       "    .dataframe tbody tr th {\n",
       "        vertical-align: top;\n",
       "    }\n",
       "\n",
       "    .dataframe thead th {\n",
       "        text-align: right;\n",
       "    }\n",
       "</style>\n",
       "<table border=\"1\" class=\"dataframe\">\n",
       "  <thead>\n",
       "    <tr style=\"text-align: right;\">\n",
       "      <th></th>\n",
       "      <th>id</th>\n",
       "      <th>words</th>\n",
       "    </tr>\n",
       "  </thead>\n",
       "  <tbody>\n",
       "    <tr>\n",
       "      <th>0</th>\n",
       "      <td>1</td>\n",
       "      <td>technology</td>\n",
       "    </tr>\n",
       "    <tr>\n",
       "      <th>1</th>\n",
       "      <td>2</td>\n",
       "      <td>education</td>\n",
       "    </tr>\n",
       "  </tbody>\n",
       "</table>\n",
       "</div>"
      ],
      "text/plain": [
       "   id       words\n",
       "0   1  technology\n",
       "1   2   education"
      ]
     },
     "execution_count": 6,
     "metadata": {},
     "output_type": "execute_result"
    }
   ],
   "source": [
    "df_area=pd.read_csv(directory+\"/ABox_data/keyword.csv\")\n",
    "for index,row in df_area.iterrows():\n",
    "    area_id = row['id']\n",
    "    area_words = Literal(str(row['words']))\n",
    "    # create ABox\n",
    "    keyword_node = URIRef(f\"http://sdm_lab/{area_id}\")\n",
    "    g.add((keyword_node, RDF.type, sdm_lab.Keyword))\n",
    "    g.add((keyword_node, sdm_lab.word, area_words))\n",
    "df_area.head(2)"
   ]
  },
  {
   "cell_type": "markdown",
   "metadata": {},
   "source": [
    "### Author"
   ]
  },
  {
   "cell_type": "code",
   "execution_count": 7,
   "metadata": {},
   "outputs": [
    {
     "data": {
      "text/html": [
       "<div>\n",
       "<style scoped>\n",
       "    .dataframe tbody tr th:only-of-type {\n",
       "        vertical-align: middle;\n",
       "    }\n",
       "\n",
       "    .dataframe tbody tr th {\n",
       "        vertical-align: top;\n",
       "    }\n",
       "\n",
       "    .dataframe thead th {\n",
       "        text-align: right;\n",
       "    }\n",
       "</style>\n",
       "<table border=\"1\" class=\"dataframe\">\n",
       "  <thead>\n",
       "    <tr style=\"text-align: right;\">\n",
       "      <th></th>\n",
       "      <th>author_id</th>\n",
       "      <th>author_name</th>\n",
       "    </tr>\n",
       "  </thead>\n",
       "  <tbody>\n",
       "    <tr>\n",
       "      <th>0</th>\n",
       "      <td>53f45728dabfaec09f209538</td>\n",
       "      <td>Peijuan Wang</td>\n",
       "    </tr>\n",
       "    <tr>\n",
       "      <th>1</th>\n",
       "      <td>5601754345cedb3395e59457</td>\n",
       "      <td>Jiahua Zhang</td>\n",
       "    </tr>\n",
       "  </tbody>\n",
       "</table>\n",
       "</div>"
      ],
      "text/plain": [
       "                  author_id   author_name\n",
       "0  53f45728dabfaec09f209538  Peijuan Wang\n",
       "1  5601754345cedb3395e59457  Jiahua Zhang"
      ]
     },
     "execution_count": 7,
     "metadata": {},
     "output_type": "execute_result"
    }
   ],
   "source": [
    "df_authors=pd.read_csv(directory+\"/ABox_data/authors.csv\")\n",
    "for index,row in df_authors.iterrows():\n",
    "    authors_author_id = row['author_id']\n",
    "    authors_author_name = Literal(str(row['author_name']))\n",
    "    # create ABox\n",
    "    author_node = URIRef(f\"http://sdm_lab/{URLparse(authors_author_id)}\")\n",
    "    g.add((author_node, RDF.type, sdm_lab.Author))\n",
    "    g.add((author_node, sdm_lab.name, authors_author_name))\n",
    "df_authors.head(2)"
   ]
  },
  {
   "cell_type": "markdown",
   "metadata": {},
   "source": [
    "### Author-writes-paper"
   ]
  },
  {
   "cell_type": "code",
   "execution_count": 8,
   "metadata": {},
   "outputs": [
    {
     "data": {
      "text/html": [
       "<div>\n",
       "<style scoped>\n",
       "    .dataframe tbody tr th:only-of-type {\n",
       "        vertical-align: middle;\n",
       "    }\n",
       "\n",
       "    .dataframe tbody tr th {\n",
       "        vertical-align: top;\n",
       "    }\n",
       "\n",
       "    .dataframe thead th {\n",
       "        text-align: right;\n",
       "    }\n",
       "</style>\n",
       "<table border=\"1\" class=\"dataframe\">\n",
       "  <thead>\n",
       "    <tr style=\"text-align: right;\">\n",
       "      <th></th>\n",
       "      <th>author_id</th>\n",
       "      <th>paper_id</th>\n",
       "    </tr>\n",
       "  </thead>\n",
       "  <tbody>\n",
       "    <tr>\n",
       "      <th>0</th>\n",
       "      <td>53f45728dabfaec09f209538</td>\n",
       "      <td>53e99784b7602d9701f3e133</td>\n",
       "    </tr>\n",
       "    <tr>\n",
       "      <th>1</th>\n",
       "      <td>5601754345cedb3395e59457</td>\n",
       "      <td>53e99784b7602d9701f3e133</td>\n",
       "    </tr>\n",
       "  </tbody>\n",
       "</table>\n",
       "</div>"
      ],
      "text/plain": [
       "                  author_id                  paper_id\n",
       "0  53f45728dabfaec09f209538  53e99784b7602d9701f3e133\n",
       "1  5601754345cedb3395e59457  53e99784b7602d9701f3e133"
      ]
     },
     "execution_count": 8,
     "metadata": {},
     "output_type": "execute_result"
    }
   ],
   "source": [
    "df_author_wrote_paper=pd.read_csv(directory+\"/ABox_data/author_writes_paper.csv\")\n",
    "for index,row in df_author_wrote_paper.iterrows():\n",
    "    author_wrote_paper_author_id = row['author_id']\n",
    "    author_wrote_paper_paper_id = row['paper_id']\n",
    "    # create ABox\n",
    "    author_node = URIRef(f\"http://sdm_lab/{URLparse(author_wrote_paper_author_id)}\")\n",
    "    paper_node = URIRef(f\"http://sdm_lab/{URLparse(author_wrote_paper_paper_id)}\")\n",
    "    g.add((author_node, sdm_lab.writes, paper_node))\n",
    "df_author_wrote_paper.head(2)"
   ]
  },
  {
   "cell_type": "markdown",
   "metadata": {},
   "source": [
    "### Conference-relatedTo-Keyword"
   ]
  },
  {
   "cell_type": "code",
   "execution_count": 9,
   "metadata": {},
   "outputs": [
    {
     "data": {
      "text/html": [
       "<div>\n",
       "<style scoped>\n",
       "    .dataframe tbody tr th:only-of-type {\n",
       "        vertical-align: middle;\n",
       "    }\n",
       "\n",
       "    .dataframe tbody tr th {\n",
       "        vertical-align: top;\n",
       "    }\n",
       "\n",
       "    .dataframe thead th {\n",
       "        text-align: right;\n",
       "    }\n",
       "</style>\n",
       "<table border=\"1\" class=\"dataframe\">\n",
       "  <thead>\n",
       "    <tr style=\"text-align: right;\">\n",
       "      <th></th>\n",
       "      <th>conf_id</th>\n",
       "      <th>area_id</th>\n",
       "    </tr>\n",
       "  </thead>\n",
       "  <tbody>\n",
       "    <tr>\n",
       "      <th>0</th>\n",
       "      <td>53e1815b20f7dfbc07e8b8e9</td>\n",
       "      <td>26</td>\n",
       "    </tr>\n",
       "    <tr>\n",
       "      <th>1</th>\n",
       "      <td>53a730a620f7420be8d00a51</td>\n",
       "      <td>2</td>\n",
       "    </tr>\n",
       "  </tbody>\n",
       "</table>\n",
       "</div>"
      ],
      "text/plain": [
       "                    conf_id  area_id\n",
       "0  53e1815b20f7dfbc07e8b8e9       26\n",
       "1  53a730a620f7420be8d00a51        2"
      ]
     },
     "execution_count": 9,
     "metadata": {},
     "output_type": "execute_result"
    }
   ],
   "source": [
    "df_conf_area=pd.read_csv(directory+\"/ABox_data/conf_area.csv\")\n",
    "for index,row in df_conf_area.iterrows():\n",
    "    conf_area_conf_id = row['conf_id']\n",
    "    conf_area_area_id = row['area_id']\n",
    "    # create ABox\n",
    "    conference_node = URIRef(f\"http://sdm_lab/{URLparse(conf_area_conf_id)}\")\n",
    "    keyword_node = URIRef(f\"http://sdm_lab/{conf_area_area_id}\")\n",
    "    g.add((conference_node, sdm_lab.cRelatedTo, keyword_node))\n",
    "df_conf_area.head(2)"
   ]
  },
  {
   "cell_type": "markdown",
   "metadata": {},
   "source": [
    "### Conference"
   ]
  },
  {
   "cell_type": "code",
   "execution_count": 10,
   "metadata": {},
   "outputs": [
    {
     "data": {
      "text/html": [
       "<div>\n",
       "<style scoped>\n",
       "    .dataframe tbody tr th:only-of-type {\n",
       "        vertical-align: middle;\n",
       "    }\n",
       "\n",
       "    .dataframe tbody tr th {\n",
       "        vertical-align: top;\n",
       "    }\n",
       "\n",
       "    .dataframe thead th {\n",
       "        text-align: right;\n",
       "    }\n",
       "</style>\n",
       "<table border=\"1\" class=\"dataframe\">\n",
       "  <thead>\n",
       "    <tr style=\"text-align: right;\">\n",
       "      <th></th>\n",
       "      <th>conf_id</th>\n",
       "      <th>type</th>\n",
       "    </tr>\n",
       "  </thead>\n",
       "  <tbody>\n",
       "    <tr>\n",
       "      <th>0</th>\n",
       "      <td>53e1815b20f7dfbc07e8b8e9</td>\n",
       "      <td>Symposium</td>\n",
       "    </tr>\n",
       "    <tr>\n",
       "      <th>1</th>\n",
       "      <td>53a730a620f7420be8d00a51</td>\n",
       "      <td>Symposium</td>\n",
       "    </tr>\n",
       "    <tr>\n",
       "      <th>2</th>\n",
       "      <td>555036f37cea80f95416924b</td>\n",
       "      <td>RegularConference</td>\n",
       "    </tr>\n",
       "    <tr>\n",
       "      <th>3</th>\n",
       "      <td>555036dd7cea80f954161b94</td>\n",
       "      <td>ExpertGroup</td>\n",
       "    </tr>\n",
       "    <tr>\n",
       "      <th>4</th>\n",
       "      <td>53e1851520f7dfbc07e8d228</td>\n",
       "      <td>RegularConference</td>\n",
       "    </tr>\n",
       "    <tr>\n",
       "      <th>5</th>\n",
       "      <td>53a7326c20f7420be8d9588a</td>\n",
       "      <td>ExpertGroup</td>\n",
       "    </tr>\n",
       "    <tr>\n",
       "      <th>6</th>\n",
       "      <td>53a7306120f7420be8ced937</td>\n",
       "      <td>ExpertGroup</td>\n",
       "    </tr>\n",
       "    <tr>\n",
       "      <th>7</th>\n",
       "      <td>53a731e220f7420be8d68c8f</td>\n",
       "      <td>RegularConference</td>\n",
       "    </tr>\n",
       "    <tr>\n",
       "      <th>8</th>\n",
       "      <td>57d0879d0a3ac5db49914281</td>\n",
       "      <td>Symposium</td>\n",
       "    </tr>\n",
       "    <tr>\n",
       "      <th>9</th>\n",
       "      <td>53a72dbe20f7420be8c72ca2</td>\n",
       "      <td>RegularConference</td>\n",
       "    </tr>\n",
       "    <tr>\n",
       "      <th>10</th>\n",
       "      <td>5736ac8cd39c4f40a795b13e</td>\n",
       "      <td>ExpertGroup</td>\n",
       "    </tr>\n",
       "    <tr>\n",
       "      <th>11</th>\n",
       "      <td>572dd8ddd39c4f49934859f5</td>\n",
       "      <td>Symposium</td>\n",
       "    </tr>\n",
       "    <tr>\n",
       "      <th>12</th>\n",
       "      <td>5736ac05d39c4f40a7953a30</td>\n",
       "      <td>Symposium</td>\n",
       "    </tr>\n",
       "    <tr>\n",
       "      <th>13</th>\n",
       "      <td>5736ad5fd39c4f40a7968fbf</td>\n",
       "      <td>Symposium</td>\n",
       "    </tr>\n",
       "    <tr>\n",
       "      <th>14</th>\n",
       "      <td>54824c96582fc50b5e00b6a4</td>\n",
       "      <td>Workshop</td>\n",
       "    </tr>\n",
       "    <tr>\n",
       "      <th>15</th>\n",
       "      <td>5736ae3ad39c4f40a7976010</td>\n",
       "      <td>Symposium</td>\n",
       "    </tr>\n",
       "    <tr>\n",
       "      <th>16</th>\n",
       "      <td>53a731b220f7420be8d58a5d</td>\n",
       "      <td>ExpertGroup</td>\n",
       "    </tr>\n",
       "    <tr>\n",
       "      <th>17</th>\n",
       "      <td>53a7320c20f7420be8d76b91</td>\n",
       "      <td>Workshop</td>\n",
       "    </tr>\n",
       "    <tr>\n",
       "      <th>18</th>\n",
       "      <td>53a7319e20f7420be8d53826</td>\n",
       "      <td>ExpertGroup</td>\n",
       "    </tr>\n",
       "    <tr>\n",
       "      <th>19</th>\n",
       "      <td>5736ae01d39c4f40a797354b</td>\n",
       "      <td>Workshop</td>\n",
       "    </tr>\n",
       "  </tbody>\n",
       "</table>\n",
       "</div>"
      ],
      "text/plain": [
       "                     conf_id               type\n",
       "0   53e1815b20f7dfbc07e8b8e9          Symposium\n",
       "1   53a730a620f7420be8d00a51          Symposium\n",
       "2   555036f37cea80f95416924b  RegularConference\n",
       "3   555036dd7cea80f954161b94        ExpertGroup\n",
       "4   53e1851520f7dfbc07e8d228  RegularConference\n",
       "5   53a7326c20f7420be8d9588a        ExpertGroup\n",
       "6   53a7306120f7420be8ced937        ExpertGroup\n",
       "7   53a731e220f7420be8d68c8f  RegularConference\n",
       "8   57d0879d0a3ac5db49914281          Symposium\n",
       "9   53a72dbe20f7420be8c72ca2  RegularConference\n",
       "10  5736ac8cd39c4f40a795b13e        ExpertGroup\n",
       "11  572dd8ddd39c4f49934859f5          Symposium\n",
       "12  5736ac05d39c4f40a7953a30          Symposium\n",
       "13  5736ad5fd39c4f40a7968fbf          Symposium\n",
       "14  54824c96582fc50b5e00b6a4           Workshop\n",
       "15  5736ae3ad39c4f40a7976010          Symposium\n",
       "16  53a731b220f7420be8d58a5d        ExpertGroup\n",
       "17  53a7320c20f7420be8d76b91           Workshop\n",
       "18  53a7319e20f7420be8d53826        ExpertGroup\n",
       "19  5736ae01d39c4f40a797354b           Workshop"
      ]
     },
     "execution_count": 10,
     "metadata": {},
     "output_type": "execute_result"
    }
   ],
   "source": [
    "df_conferences=pd.read_csv(directory+\"/ABox_data/conferences.csv\")\n",
    "df_conferences=df_conferences.replace('WorkGroup', 'ExpertGroup')\n",
    "for index,row in df_conferences.iterrows():\n",
    "    conferences_conf_id = row['conf_id']\n",
    "    conferences_type = row['type']\n",
    "    # create ABox\n",
    "    conference_node = URIRef(f\"http://sdm_lab/{URLparse(conferences_conf_id)}\")\n",
    "    if conferences_type=='Symposium':\n",
    "        g.add((conference_node, RDF.type, sdm_lab.Symposium))\n",
    "    elif conferences_type=='RegularConference':\n",
    "        g.add((conference_node, RDF.type, sdm_lab.RegularConference))\n",
    "    elif conferences_type=='ExpertGroup':\n",
    "        g.add((conference_node, RDF.type, sdm_lab.ExpertGroup))\n",
    "    elif conferences_type=='Workshop':\n",
    "        g.add((conference_node, RDF.type, sdm_lab.Workshop))\n",
    "df_conferences.head(20)"
   ]
  },
  {
   "cell_type": "markdown",
   "metadata": {},
   "source": [
    "### Conference-has-Proceeding"
   ]
  },
  {
   "cell_type": "code",
   "execution_count": 11,
   "metadata": {},
   "outputs": [
    {
     "data": {
      "text/html": [
       "<div>\n",
       "<style scoped>\n",
       "    .dataframe tbody tr th:only-of-type {\n",
       "        vertical-align: middle;\n",
       "    }\n",
       "\n",
       "    .dataframe tbody tr th {\n",
       "        vertical-align: top;\n",
       "    }\n",
       "\n",
       "    .dataframe thead th {\n",
       "        text-align: right;\n",
       "    }\n",
       "</style>\n",
       "<table border=\"1\" class=\"dataframe\">\n",
       "  <thead>\n",
       "    <tr style=\"text-align: right;\">\n",
       "      <th></th>\n",
       "      <th>conf_id</th>\n",
       "      <th>edition_id</th>\n",
       "    </tr>\n",
       "  </thead>\n",
       "  <tbody>\n",
       "    <tr>\n",
       "      <th>0</th>\n",
       "      <td>55f8e082c35f4f6dfd416033</td>\n",
       "      <td>20iw32vi</td>\n",
       "    </tr>\n",
       "    <tr>\n",
       "      <th>1</th>\n",
       "      <td>53a730f520f7420be8d175f9</td>\n",
       "      <td>50hu76py</td>\n",
       "    </tr>\n",
       "  </tbody>\n",
       "</table>\n",
       "</div>"
      ],
      "text/plain": [
       "                    conf_id edition_id\n",
       "0  55f8e082c35f4f6dfd416033   20iw32vi\n",
       "1  53a730f520f7420be8d175f9   50hu76py"
      ]
     },
     "execution_count": 11,
     "metadata": {},
     "output_type": "execute_result"
    }
   ],
   "source": [
    "df_has_proceedings=pd.read_csv(directory+\"/ABox_data/has_proceedings.csv\")\n",
    "for index,row in df_has_proceedings.iterrows():\n",
    "    has_proceedings_conf_id = row['conf_id']\n",
    "    has_proceedings_edition_id = row['edition_id']\n",
    "    # create ABox\n",
    "    proceeding_node = URIRef(f\"http://sdm_lab/{URLparse(has_proceedings_edition_id)}\")\n",
    "    conference_node = URIRef(f\"http://sdm_lab/{URLparse(has_proceedings_conf_id)}\")\n",
    "    g.add((conference_node, sdm_lab.has, proceeding_node))\n",
    "df_has_proceedings.head(2)"
   ]
  },
  {
   "cell_type": "markdown",
   "metadata": {},
   "source": [
    "### Journal-contains-Volume"
   ]
  },
  {
   "cell_type": "code",
   "execution_count": 12,
   "metadata": {},
   "outputs": [
    {
     "data": {
      "text/html": [
       "<div>\n",
       "<style scoped>\n",
       "    .dataframe tbody tr th:only-of-type {\n",
       "        vertical-align: middle;\n",
       "    }\n",
       "\n",
       "    .dataframe tbody tr th {\n",
       "        vertical-align: top;\n",
       "    }\n",
       "\n",
       "    .dataframe thead th {\n",
       "        text-align: right;\n",
       "    }\n",
       "</style>\n",
       "<table border=\"1\" class=\"dataframe\">\n",
       "  <thead>\n",
       "    <tr style=\"text-align: right;\">\n",
       "      <th></th>\n",
       "      <th>journal_id</th>\n",
       "      <th>edition_id</th>\n",
       "    </tr>\n",
       "  </thead>\n",
       "  <tbody>\n",
       "    <tr>\n",
       "      <th>0</th>\n",
       "      <td>53a726b420f7420be8b7ec67</td>\n",
       "      <td>02ul10br</td>\n",
       "    </tr>\n",
       "    <tr>\n",
       "      <th>1</th>\n",
       "      <td>5390b03920f70186a0ed659b</td>\n",
       "      <td>14id46ro</td>\n",
       "    </tr>\n",
       "  </tbody>\n",
       "</table>\n",
       "</div>"
      ],
      "text/plain": [
       "                 journal_id edition_id\n",
       "0  53a726b420f7420be8b7ec67   02ul10br\n",
       "1  5390b03920f70186a0ed659b   14id46ro"
      ]
     },
     "execution_count": 12,
     "metadata": {},
     "output_type": "execute_result"
    }
   ],
   "source": [
    "df_has_volume=pd.read_csv(directory+\"/ABox_data/contains_volume.csv\")\n",
    "for index,row in df_has_volume.iterrows():\n",
    "    has_volume_journal_id = row['journal_id']\n",
    "    has_volume_edition_id = row['edition_id']\n",
    "    # create ABox\n",
    "    volume_node = URIRef(f\"http://sdm_lab/{URLparse(has_volume_edition_id)}\")\n",
    "    journal_node = URIRef(f\"http://sdm_lab/{URLparse(has_volume_journal_id)}\")\n",
    "    g.add((journal_node, sdm_lab.contains, volume_node))\n",
    "df_has_volume.head(2)"
   ]
  },
  {
   "cell_type": "markdown",
   "metadata": {},
   "source": [
    "### Conference-handledBy-Chair"
   ]
  },
  {
   "cell_type": "code",
   "execution_count": 13,
   "metadata": {},
   "outputs": [
    {
     "data": {
      "text/html": [
       "<div>\n",
       "<style scoped>\n",
       "    .dataframe tbody tr th:only-of-type {\n",
       "        vertical-align: middle;\n",
       "    }\n",
       "\n",
       "    .dataframe tbody tr th {\n",
       "        vertical-align: top;\n",
       "    }\n",
       "\n",
       "    .dataframe thead th {\n",
       "        text-align: right;\n",
       "    }\n",
       "</style>\n",
       "<table border=\"1\" class=\"dataframe\">\n",
       "  <thead>\n",
       "    <tr style=\"text-align: right;\">\n",
       "      <th></th>\n",
       "      <th>chair_id</th>\n",
       "      <th>conf_id</th>\n",
       "    </tr>\n",
       "  </thead>\n",
       "  <tbody>\n",
       "    <tr>\n",
       "      <th>0</th>\n",
       "      <td>HAN169iwb</td>\n",
       "      <td>53e1815b20f7dfbc07e8b8e9</td>\n",
       "    </tr>\n",
       "    <tr>\n",
       "      <th>1</th>\n",
       "      <td>ABY251oez</td>\n",
       "      <td>53a730a620f7420be8d00a51</td>\n",
       "    </tr>\n",
       "  </tbody>\n",
       "</table>\n",
       "</div>"
      ],
      "text/plain": [
       "    chair_id                   conf_id\n",
       "0  HAN169iwb  53e1815b20f7dfbc07e8b8e9\n",
       "1  ABY251oez  53a730a620f7420be8d00a51"
      ]
     },
     "execution_count": 13,
     "metadata": {},
     "output_type": "execute_result"
    }
   ],
   "source": [
    "df_is_chair_of=pd.read_csv(directory+\"/ABox_data/cHandledBy.csv\")\n",
    "for index,row in df_is_chair_of.iterrows():\n",
    "    is_chair_of_chair_id = row['chair_id']\n",
    "    is_chair_of_conf_id = row['conf_id']\n",
    "    #abox\n",
    "    conference_node = URIRef(f\"http://sdm_lab/{URLparse(is_chair_of_conf_id)}\")\n",
    "    chair_node= URIRef(f\"http://sdm_lab/{URLparse(is_chair_of_chair_id)}\")\n",
    "    g.add((conference_node, sdm_lab.cHandledBy, chair_node))\n",
    "df_is_chair_of.head(2)"
   ]
  },
  {
   "cell_type": "markdown",
   "metadata": {},
   "source": [
    "### Journal-relatedTo-Keyword"
   ]
  },
  {
   "cell_type": "code",
   "execution_count": 14,
   "metadata": {},
   "outputs": [
    {
     "data": {
      "text/html": [
       "<div>\n",
       "<style scoped>\n",
       "    .dataframe tbody tr th:only-of-type {\n",
       "        vertical-align: middle;\n",
       "    }\n",
       "\n",
       "    .dataframe tbody tr th {\n",
       "        vertical-align: top;\n",
       "    }\n",
       "\n",
       "    .dataframe thead th {\n",
       "        text-align: right;\n",
       "    }\n",
       "</style>\n",
       "<table border=\"1\" class=\"dataframe\">\n",
       "  <thead>\n",
       "    <tr style=\"text-align: right;\">\n",
       "      <th></th>\n",
       "      <th>journal_id</th>\n",
       "      <th>area_id</th>\n",
       "    </tr>\n",
       "  </thead>\n",
       "  <tbody>\n",
       "    <tr>\n",
       "      <th>0</th>\n",
       "      <td>539ffcf2831432abcb63c645</td>\n",
       "      <td>26</td>\n",
       "    </tr>\n",
       "    <tr>\n",
       "      <th>1</th>\n",
       "      <td>53e1824d20f7dfbc07e8bf54</td>\n",
       "      <td>2</td>\n",
       "    </tr>\n",
       "  </tbody>\n",
       "</table>\n",
       "</div>"
      ],
      "text/plain": [
       "                 journal_id  area_id\n",
       "0  539ffcf2831432abcb63c645       26\n",
       "1  53e1824d20f7dfbc07e8bf54        2"
      ]
     },
     "execution_count": 14,
     "metadata": {},
     "output_type": "execute_result"
    }
   ],
   "source": [
    "df_journal_area=pd.read_csv(directory+\"/ABox_data/journal_area.csv\")\n",
    "for index,row in df_journal_area.iterrows():\n",
    "    journal_area_journal_id = row['journal_id']\n",
    "    journal_area_area_id = row['area_id']\n",
    "    # create ABox\n",
    "    journal_node = URIRef(f\"http://sdm_lab/{URLparse(journal_area_journal_id)}\")\n",
    "    keyword_node = URIRef(f\"http://sdm_lab/{journal_area_area_id}\")\n",
    "    g.add((journal_node, sdm_lab.jRelatedTo, keyword_node))\n",
    "df_journal_area.head(2)"
   ]
  },
  {
   "cell_type": "markdown",
   "metadata": {},
   "source": [
    "### Paper-relatedTo-Keyword"
   ]
  },
  {
   "cell_type": "code",
   "execution_count": 15,
   "metadata": {},
   "outputs": [
    {
     "data": {
      "text/html": [
       "<div>\n",
       "<style scoped>\n",
       "    .dataframe tbody tr th:only-of-type {\n",
       "        vertical-align: middle;\n",
       "    }\n",
       "\n",
       "    .dataframe tbody tr th {\n",
       "        vertical-align: top;\n",
       "    }\n",
       "\n",
       "    .dataframe thead th {\n",
       "        text-align: right;\n",
       "    }\n",
       "</style>\n",
       "<table border=\"1\" class=\"dataframe\">\n",
       "  <thead>\n",
       "    <tr style=\"text-align: right;\">\n",
       "      <th></th>\n",
       "      <th>paper_id</th>\n",
       "      <th>area_id</th>\n",
       "    </tr>\n",
       "  </thead>\n",
       "  <tbody>\n",
       "    <tr>\n",
       "      <th>0</th>\n",
       "      <td>53e9979bb7602d9701f63a92</td>\n",
       "      <td>1</td>\n",
       "    </tr>\n",
       "    <tr>\n",
       "      <th>1</th>\n",
       "      <td>53e9978ab7602d9701f4a046</td>\n",
       "      <td>1</td>\n",
       "    </tr>\n",
       "  </tbody>\n",
       "</table>\n",
       "</div>"
      ],
      "text/plain": [
       "                   paper_id  area_id\n",
       "0  53e9979bb7602d9701f63a92        1\n",
       "1  53e9978ab7602d9701f4a046        1"
      ]
     },
     "execution_count": 15,
     "metadata": {},
     "output_type": "execute_result"
    }
   ],
   "source": [
    "df_paper_area=pd.read_csv(directory+\"/ABox_data/paper_area.csv\")\n",
    "for index,row in df_paper_area.iterrows():\n",
    "    paper_area_paper_id = row['paper_id']\n",
    "    paper_area_area_id = row['area_id']\n",
    "    # create ABox\n",
    "    paper_node = URIRef(f\"http://sdm_lab/{URLparse(paper_area_paper_id)}\")\n",
    "    keyword_node = URIRef(f\"http://sdm_lab/{paper_area_area_id}\")\n",
    "    g.add((paper_node, sdm_lab.pRelatedTo, keyword_node))\n",
    "df_paper_area.head(2)"
   ]
  },
  {
   "cell_type": "markdown",
   "metadata": {},
   "source": [
    "### Reviews"
   ]
  },
  {
   "cell_type": "code",
   "execution_count": 16,
   "metadata": {},
   "outputs": [
    {
     "data": {
      "text/html": [
       "<div>\n",
       "<style scoped>\n",
       "    .dataframe tbody tr th:only-of-type {\n",
       "        vertical-align: middle;\n",
       "    }\n",
       "\n",
       "    .dataframe tbody tr th {\n",
       "        vertical-align: top;\n",
       "    }\n",
       "\n",
       "    .dataframe thead th {\n",
       "        text-align: right;\n",
       "    }\n",
       "</style>\n",
       "<table border=\"1\" class=\"dataframe\">\n",
       "  <thead>\n",
       "    <tr style=\"text-align: right;\">\n",
       "      <th></th>\n",
       "      <th>review_id</th>\n",
       "      <th>paper_id</th>\n",
       "      <th>decision</th>\n",
       "      <th>review_text</th>\n",
       "      <th>author_id</th>\n",
       "    </tr>\n",
       "  </thead>\n",
       "  <tbody>\n",
       "    <tr>\n",
       "      <th>0</th>\n",
       "      <td>H273nzb124sxg</td>\n",
       "      <td>53e9978ab7602d9701f45b8e</td>\n",
       "      <td>rejected</td>\n",
       "      <td>I did not like it</td>\n",
       "      <td>53f55f6ddabfae53def8045b</td>\n",
       "    </tr>\n",
       "    <tr>\n",
       "      <th>1</th>\n",
       "      <td>A366nxt216qsg</td>\n",
       "      <td>53e9978db7602d9701f4cccd</td>\n",
       "      <td>rejected</td>\n",
       "      <td>I did not like it</td>\n",
       "      <td>53f445a3dabfaee0d9bb0103</td>\n",
       "    </tr>\n",
       "  </tbody>\n",
       "</table>\n",
       "</div>"
      ],
      "text/plain": [
       "       review_id                  paper_id  decision        review_text  \\\n",
       "0  H273nzb124sxg  53e9978ab7602d9701f45b8e  rejected  I did not like it   \n",
       "1  A366nxt216qsg  53e9978db7602d9701f4cccd  rejected  I did not like it   \n",
       "\n",
       "                  author_id  \n",
       "0  53f55f6ddabfae53def8045b  \n",
       "1  53f445a3dabfaee0d9bb0103  "
      ]
     },
     "execution_count": 16,
     "metadata": {},
     "output_type": "execute_result"
    }
   ],
   "source": [
    "df_reviews=pd.read_csv(directory+\"/ABox_data/reviews.csv\")\n",
    "for index,row in df_reviews.iterrows():\n",
    "    reviews_review_id = row['review_id']\n",
    "    reviews_paper_id = row['paper_id']\n",
    "    reviews_decision = Literal(str(row['decision']))\n",
    "    reviews_review_text = Literal(str(row['review_text']))\n",
    "    reviews_reviewer_id = row['author_id']\n",
    "    # create ABox\n",
    "    paper_node = URIRef(f\"http://sdm_lab/{URLparse(reviews_paper_id)}\")\n",
    "    reviewe_node = URIRef(f\"http://sdm_lab/{reviews_review_id}\")\n",
    "    reviewer_node = URIRef(f\"http://sdm_lab/{reviews_reviewer_id}\")\n",
    "    g.add((reviewe_node, sdm_lab.reviewText, reviews_review_text))\n",
    "    g.add((reviewe_node, sdm_lab.reviewDecision, reviews_decision))\n",
    "    g.add((paper_node, sdm_lab.isUnderReview, reviewe_node))\n",
    "    g.add((reviewer_node, sdm_lab.performs, reviewe_node))\n",
    "df_reviews.head(2)"
   ]
  },
  {
   "cell_type": "markdown",
   "metadata": {},
   "source": [
    "### Journal"
   ]
  },
  {
   "cell_type": "code",
   "execution_count": 17,
   "metadata": {},
   "outputs": [
    {
     "data": {
      "text/html": [
       "<div>\n",
       "<style scoped>\n",
       "    .dataframe tbody tr th:only-of-type {\n",
       "        vertical-align: middle;\n",
       "    }\n",
       "\n",
       "    .dataframe tbody tr th {\n",
       "        vertical-align: top;\n",
       "    }\n",
       "\n",
       "    .dataframe thead th {\n",
       "        text-align: right;\n",
       "    }\n",
       "</style>\n",
       "<table border=\"1\" class=\"dataframe\">\n",
       "  <thead>\n",
       "    <tr style=\"text-align: right;\">\n",
       "      <th></th>\n",
       "      <th>journal_id</th>\n",
       "    </tr>\n",
       "  </thead>\n",
       "  <tbody>\n",
       "    <tr>\n",
       "      <th>0</th>\n",
       "      <td>539ffcf2831432abcb63c645</td>\n",
       "    </tr>\n",
       "    <tr>\n",
       "      <th>1</th>\n",
       "      <td>53e1824d20f7dfbc07e8bf54</td>\n",
       "    </tr>\n",
       "  </tbody>\n",
       "</table>\n",
       "</div>"
      ],
      "text/plain": [
       "                 journal_id\n",
       "0  539ffcf2831432abcb63c645\n",
       "1  53e1824d20f7dfbc07e8bf54"
      ]
     },
     "execution_count": 17,
     "metadata": {},
     "output_type": "execute_result"
    }
   ],
   "source": [
    "df_journals=pd.read_csv(directory+\"/ABox_data/journals.csv\")\n",
    "for index,row in df_journals.iterrows():\n",
    "    journals_journal_id = row['journal_id']\n",
    "    #ABox-create journal nodes\n",
    "    journal_node = URIRef(f\"http://sdm_lab/{URLparse(journals_journal_id)}\")\n",
    "    g.add((journal_node, RDF.type, sdm_lab.Journal))\n",
    "df_journals.head(2)"
   ]
  },
  {
   "cell_type": "markdown",
   "metadata": {},
   "source": [
    "### Journal-handledBy-Editor"
   ]
  },
  {
   "cell_type": "code",
   "execution_count": 18,
   "metadata": {},
   "outputs": [
    {
     "data": {
      "text/html": [
       "<div>\n",
       "<style scoped>\n",
       "    .dataframe tbody tr th:only-of-type {\n",
       "        vertical-align: middle;\n",
       "    }\n",
       "\n",
       "    .dataframe tbody tr th {\n",
       "        vertical-align: top;\n",
       "    }\n",
       "\n",
       "    .dataframe thead th {\n",
       "        text-align: right;\n",
       "    }\n",
       "</style>\n",
       "<table border=\"1\" class=\"dataframe\">\n",
       "  <thead>\n",
       "    <tr style=\"text-align: right;\">\n",
       "      <th></th>\n",
       "      <th>editor_id</th>\n",
       "      <th>journal_id</th>\n",
       "    </tr>\n",
       "  </thead>\n",
       "  <tbody>\n",
       "    <tr>\n",
       "      <th>0</th>\n",
       "      <td>DEL416hsw</td>\n",
       "      <td>539ffcf2831432abcb63c645</td>\n",
       "    </tr>\n",
       "    <tr>\n",
       "      <th>1</th>\n",
       "      <td>OMI943ydf</td>\n",
       "      <td>53e1824d20f7dfbc07e8bf54</td>\n",
       "    </tr>\n",
       "  </tbody>\n",
       "</table>\n",
       "</div>"
      ],
      "text/plain": [
       "   editor_id                journal_id\n",
       "0  DEL416hsw  539ffcf2831432abcb63c645\n",
       "1  OMI943ydf  53e1824d20f7dfbc07e8bf54"
      ]
     },
     "execution_count": 18,
     "metadata": {},
     "output_type": "execute_result"
    }
   ],
   "source": [
    "df_is_editor_of=pd.read_csv(directory+\"/ABox_data/jHandledBy.csv\")\n",
    "for index,row in df_is_editor_of.iterrows():\n",
    "    is_editor_of_editor_id = row['editor_id']\n",
    "    is_editor_of_journal_id = row['journal_id']\n",
    "    #abox\n",
    "    journal_node = URIRef(f\"http://sdm_lab/{URLparse(is_editor_of_journal_id)}\")\n",
    "    editor_node= URIRef(f\"http://sdm_lab/{URLparse(is_editor_of_editor_id)}\")\n",
    "    g.add((journal_node, sdm_lab.jHandledBy, editor_node))\n",
    "df_is_editor_of.head(2)"
   ]
  },
  {
   "cell_type": "markdown",
   "metadata": {},
   "source": [
    "### Paper-isSubmittedTo-Venue"
   ]
  },
  {
   "cell_type": "code",
   "execution_count": 19,
   "metadata": {},
   "outputs": [
    {
     "data": {
      "text/html": [
       "<div>\n",
       "<style scoped>\n",
       "    .dataframe tbody tr th:only-of-type {\n",
       "        vertical-align: middle;\n",
       "    }\n",
       "\n",
       "    .dataframe tbody tr th {\n",
       "        vertical-align: top;\n",
       "    }\n",
       "\n",
       "    .dataframe thead th {\n",
       "        text-align: right;\n",
       "    }\n",
       "</style>\n",
       "<table border=\"1\" class=\"dataframe\">\n",
       "  <thead>\n",
       "    <tr style=\"text-align: right;\">\n",
       "      <th></th>\n",
       "      <th>edition_id</th>\n",
       "      <th>publication_id</th>\n",
       "    </tr>\n",
       "  </thead>\n",
       "  <tbody>\n",
       "    <tr>\n",
       "      <th>0</th>\n",
       "      <td>77xf41sa</td>\n",
       "      <td>53e9978db7602d9701f50657</td>\n",
       "    </tr>\n",
       "    <tr>\n",
       "      <th>1</th>\n",
       "      <td>82il87me</td>\n",
       "      <td>53e9979bb7602d9701f63a92</td>\n",
       "    </tr>\n",
       "  </tbody>\n",
       "</table>\n",
       "</div>"
      ],
      "text/plain": [
       "  edition_id            publication_id\n",
       "0   77xf41sa  53e9978db7602d9701f50657\n",
       "1   82il87me  53e9979bb7602d9701f63a92"
      ]
     },
     "execution_count": 19,
     "metadata": {},
     "output_type": "execute_result"
    }
   ],
   "source": [
    "df_has_publication=pd.read_csv(directory+\"/ABox_data/has_publication.csv\")\n",
    "for index,row in df_has_publication.iterrows():\n",
    "    has_publication_edition_id = row['edition_id']\n",
    "    has_publication_publication_id = row['publication_id']\n",
    "df_has_publication.head(2)"
   ]
  },
  {
   "cell_type": "code",
   "execution_count": 20,
   "metadata": {},
   "outputs": [
    {
     "data": {
      "text/html": [
       "<div>\n",
       "<style scoped>\n",
       "    .dataframe tbody tr th:only-of-type {\n",
       "        vertical-align: middle;\n",
       "    }\n",
       "\n",
       "    .dataframe tbody tr th {\n",
       "        vertical-align: top;\n",
       "    }\n",
       "\n",
       "    .dataframe thead th {\n",
       "        text-align: right;\n",
       "    }\n",
       "</style>\n",
       "<table border=\"1\" class=\"dataframe\">\n",
       "  <thead>\n",
       "    <tr style=\"text-align: right;\">\n",
       "      <th></th>\n",
       "      <th>edition_id</th>\n",
       "      <th>publication_id</th>\n",
       "      <th>venue_id</th>\n",
       "    </tr>\n",
       "  </thead>\n",
       "  <tbody>\n",
       "    <tr>\n",
       "      <th>0</th>\n",
       "      <td>20iw32vi</td>\n",
       "      <td>53e9979bb7602d9701f66d80</td>\n",
       "      <td>55f8e082c35f4f6dfd416033</td>\n",
       "    </tr>\n",
       "    <tr>\n",
       "      <th>2</th>\n",
       "      <td>09np14nm</td>\n",
       "      <td>53e9979bb7602d9701f67b74</td>\n",
       "      <td>5736ae01d39c4f40a797354b</td>\n",
       "    </tr>\n",
       "  </tbody>\n",
       "</table>\n",
       "</div>"
      ],
      "text/plain": [
       "  edition_id            publication_id                  venue_id\n",
       "0   20iw32vi  53e9979bb7602d9701f66d80  55f8e082c35f4f6dfd416033\n",
       "2   09np14nm  53e9979bb7602d9701f67b74  5736ae01d39c4f40a797354b"
      ]
     },
     "execution_count": 20,
     "metadata": {},
     "output_type": "execute_result"
    }
   ],
   "source": [
    "#property paper_node IsSubmittedTo venue_node\n",
    "df1=pd.merge(df_has_publication,df_has_proceedings,on=['edition_id','edition_id'],how='right').rename(columns={'conf_id':'venue_id'})\n",
    "df2=pd.merge(df_has_publication,df_has_volume,on=['edition_id','edition_id'],how='right').rename(columns={'journal_id':'venue_id'})\n",
    "df_publication_venue=pd.concat([df1,df2]).dropna(axis='index', how='all', subset=['publication_id'])\n",
    "for index,row in df_publication_venue.iterrows():\n",
    "    publication_venue_publication_id = row['publication_id']\n",
    "    publication_venue_venue_id = row['venue_id']\n",
    "    #abox\n",
    "    paper_node = URIRef(f\"http://sdm_lab/{URLparse(publication_venue_publication_id)}\")\n",
    "    venue_node= URIRef(f\"http://sdm_lab/{URLparse(publication_venue_venue_id)}\")\n",
    "    g.add((paper_node, sdm_lab.isSubmittedTo, venue_node))\n",
    "df_publication_venue.head(2)"
   ]
  },
  {
   "cell_type": "markdown",
   "metadata": {},
   "source": [
    "### Responsible-assigns-reviewer"
   ]
  },
  {
   "cell_type": "code",
   "execution_count": 21,
   "metadata": {},
   "outputs": [
    {
     "data": {
      "text/html": [
       "<div>\n",
       "<style scoped>\n",
       "    .dataframe tbody tr th:only-of-type {\n",
       "        vertical-align: middle;\n",
       "    }\n",
       "\n",
       "    .dataframe tbody tr th {\n",
       "        vertical-align: top;\n",
       "    }\n",
       "\n",
       "    .dataframe thead th {\n",
       "        text-align: right;\n",
       "    }\n",
       "</style>\n",
       "<table border=\"1\" class=\"dataframe\">\n",
       "  <thead>\n",
       "    <tr style=\"text-align: right;\">\n",
       "      <th></th>\n",
       "      <th>responsible_id</th>\n",
       "      <th>reviewer</th>\n",
       "    </tr>\n",
       "  </thead>\n",
       "  <tbody>\n",
       "    <tr>\n",
       "      <th>0</th>\n",
       "      <td>VZN926rmo</td>\n",
       "      <td>53f8078adabfae8faa4d3418</td>\n",
       "    </tr>\n",
       "    <tr>\n",
       "      <th>1</th>\n",
       "      <td>JMY431sue</td>\n",
       "      <td>53f4309ddabfaeb1a7bb434b</td>\n",
       "    </tr>\n",
       "  </tbody>\n",
       "</table>\n",
       "</div>"
      ],
      "text/plain": [
       "  responsible_id                  reviewer\n",
       "0      VZN926rmo  53f8078adabfae8faa4d3418\n",
       "1      JMY431sue  53f4309ddabfaeb1a7bb434b"
      ]
     },
     "execution_count": 21,
     "metadata": {},
     "output_type": "execute_result"
    }
   ],
   "source": [
    "list_chair_id=['VZN926rmo','JMY431sue','KYK994nja','VZN926rmo','LMI499xkv']\n",
    "list_reviewer_id=['53f8078adabfae8faa4d3418','53f4309ddabfaeb1a7bb434b','54869ab9dabfae8a11fb33bb','53f8078adabfae8faa4d3418','53f45f55dabfaee0d9c13d70']\n",
    "df_responsible_assgin_reviewer = pd.DataFrame()\n",
    "df_responsible_assgin_reviewer['responsible_id']=list_chair_id\n",
    "df_responsible_assgin_reviewer['reviewer']=list_reviewer_id\n",
    "for index,row in df_responsible_assgin_reviewer.iterrows():\n",
    "    responsible_assgin_reviewer_responsible_id = row['responsible_id']\n",
    "    responsible_assgin_reviewer_reviewer = row['reviewer']\n",
    "    #abox\n",
    "    responsible_node = URIRef(f\"http://sdm_lab/{URLparse(responsible_assgin_reviewer_responsible_id)}\")\n",
    "    reviewer_node= URIRef(f\"http://sdm_lab/{URLparse(responsible_assgin_reviewer_reviewer)}\")\n",
    "    g.add((responsible_node, sdm_lab.assigns, reviewer_node))\n",
    "df_responsible_assgin_reviewer.head(2)"
   ]
  },
  {
   "cell_type": "markdown",
   "metadata": {},
   "source": [
    "### Save ABox into file"
   ]
  },
  {
   "cell_type": "code",
   "execution_count": 22,
   "metadata": {},
   "outputs": [],
   "source": [
    "save_rdf_file(g,\"ABox\",rdf_format='nt')"
   ]
  }
 ],
 "metadata": {
  "interpreter": {
   "hash": "a51ff978801d8d09613ee1b92097b9542c668ab19361dd4a1b99001fae0b8de5"
  },
  "kernelspec": {
   "display_name": "Python 3 (ipykernel)",
   "language": "python",
   "name": "python3"
  },
  "language_info": {
   "codemirror_mode": {
    "name": "ipython",
    "version": 3
   },
   "file_extension": ".py",
   "mimetype": "text/x-python",
   "name": "python",
   "nbconvert_exporter": "python",
   "pygments_lexer": "ipython3",
   "version": "3.7.4"
  }
 },
 "nbformat": 4,
 "nbformat_minor": 2
}
